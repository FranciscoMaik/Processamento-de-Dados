{
 "cells": [
  {
   "cell_type": "markdown",
   "metadata": {
    "colab_type": "text",
    "id": "RiZAfIZQlcnF"
   },
   "source": [
    "# S03 E01: Handcrafted Feature Extraction\n",
    "### Créditos: Jederson e Myllena"
   ]
  },
  {
   "cell_type": "markdown",
   "metadata": {
    "colab_type": "text",
    "id": "cH2WglxMlcnI"
   },
   "source": [
    "## Import Libraries "
   ]
  },
  {
   "cell_type": "code",
   "execution_count": 1,
   "metadata": {
    "colab": {},
    "colab_type": "code",
    "id": "bDJ2jZXqm0pc"
   },
   "outputs": [],
   "source": [
    "import pandas as pd\n",
    "import numpy as np\n",
    "import librosa \n",
    "import os\n",
    "import glob\n",
    "import re\n",
    "import pickle\n",
    "from tqdm import tqdm"
   ]
  },
  {
   "cell_type": "markdown",
   "metadata": {
    "colab_type": "text",
    "id": "AmqjGfUXlcnW"
   },
   "source": [
    "## Extract Features\n",
    "### 13 features\n",
    "Cepstral: MFCC | Time: ZCR, centroid, rolloff, tempogram | Frequency: chroma* 3, bandwidth, contrast, flatness, poly, tonnez"
   ]
  },
  {
   "cell_type": "code",
   "execution_count": 2,
   "metadata": {
    "colab": {},
    "colab_type": "code",
    "id": "eKVsnXAalcne",
    "jupyter": {
     "outputs_hidden": true
    }
   },
   "outputs": [],
   "source": [
    "def extract_features_mfcc(file_name):\n",
    "   \n",
    "    try:\n",
    "        audio, sample_rate = librosa.load(file_name, res_type='kaiser_fast') \n",
    "        mfccs = librosa.feature.mfcc(y=audio, sr=sample_rate, n_mfcc = 40)\n",
    "        mfccsscaled = np.mean(mfccs.T,axis=0)\n",
    "        \n",
    "    except Exception as e:\n",
    "        print(\"MFCC => Error encountered while parsing file: \", file_name)\n",
    "        return None \n",
    "     \n",
    "    return mfccsscaled"
   ]
  },
  {
   "cell_type": "code",
   "execution_count": 3,
   "metadata": {
    "colab": {},
    "colab_type": "code",
    "id": "HREApnQmp27f",
    "jupyter": {
     "outputs_hidden": true
    }
   },
   "outputs": [],
   "source": [
    "def extract_features_zero(file_name):\n",
    "   \n",
    "    try:\n",
    "        audio, sample_rate = librosa.load(file_name, res_type='kaiser_fast') \n",
    "        zcr = librosa.zero_crossings(audio, pad = False)\n",
    "        zcr = np.sum(zcr)\n",
    "        pass\n",
    "        \n",
    "    except Exception as e:\n",
    "        print(\"ZCR => Error encountered while parsing file: \", file_name)\n",
    "        return None \n",
    "     \n",
    "    return zcr"
   ]
  },
  {
   "cell_type": "code",
   "execution_count": 4,
   "metadata": {
    "colab": {},
    "colab_type": "code",
    "id": "tUYL7gIWNDUH",
    "jupyter": {
     "outputs_hidden": true
    }
   },
   "outputs": [],
   "source": [
    "def extract_features_chroma_stft(file_name):\n",
    "\n",
    "  try: \n",
    "      audio, sample_rate = librosa.load(file_name, res_type='kaiser_fast')\n",
    "      ch_stft = librosa.feature.chroma_stft(y=audio, sr=sample_rate)\n",
    "      stft = np.mean(ch_stft)\n",
    "      pass\n",
    "\n",
    "  except Exception as e:\n",
    "      print(\"STFT => Error encountered while parsing file: \", file_name)\n",
    "      return None \n",
    "     \n",
    "  return stft"
   ]
  },
  {
   "cell_type": "code",
   "execution_count": 5,
   "metadata": {
    "colab": {},
    "colab_type": "code",
    "id": "7b5YlUIxWekT",
    "jupyter": {
     "outputs_hidden": true
    }
   },
   "outputs": [],
   "source": [
    "def extract_features_chroma_cqt(file_name):\n",
    "\n",
    "  try: \n",
    "      audio, sample_rate = librosa.load(file_name, res_type='kaiser_fast')\n",
    "      cqt = librosa.feature.chroma_cqt(y=audio, sr=sample_rate)\n",
    "      cqt = np.mean(cqt)\n",
    "      pass\n",
    "\n",
    "  except Exception as e:\n",
    "      print(\"CQT => Error encountered while parsing file: \", file_name)\n",
    "      return None \n",
    "     \n",
    "  return cqt"
   ]
  },
  {
   "cell_type": "code",
   "execution_count": 6,
   "metadata": {
    "colab": {},
    "colab_type": "code",
    "id": "7kjFAK20WhFm",
    "jupyter": {
     "outputs_hidden": true
    }
   },
   "outputs": [],
   "source": [
    "def extract_features_chroma_cens(file_name):\n",
    "\n",
    "  try: \n",
    "      audio, sample_rate = librosa.load(file_name, res_type='kaiser_fast')\n",
    "      cens = librosa.feature.chroma_cens(y=audio, sr=sample_rate)\n",
    "      cens = np.mean(cens)\n",
    "      pass\n",
    "\n",
    "  except Exception as e:\n",
    "      print(\"Chroma cens => Error encountered while parsing file: \", file_name)\n",
    "      return None \n",
    "     \n",
    "  return cens"
   ]
  },
  {
   "cell_type": "code",
   "execution_count": 7,
   "metadata": {
    "colab": {},
    "colab_type": "code",
    "id": "Ixb8HpHuc9ki",
    "jupyter": {
     "outputs_hidden": true
    }
   },
   "outputs": [],
   "source": [
    "def extract_features_spectral_centroid(file_name):\n",
    "\n",
    "  try: \n",
    "      audio, sample_rate = librosa.load(file_name, res_type='kaiser_fast')\n",
    "      cent = librosa.feature.spectral_centroid(y=audio, sr=sample_rate)\n",
    "      cent = np.mean(cent)\n",
    "      pass\n",
    "\n",
    "  except Exception as e:\n",
    "      print(\"Spectral centroid => Error encountered while parsing file: \", file_name)\n",
    "      return None \n",
    "     \n",
    "  return cent"
   ]
  },
  {
   "cell_type": "code",
   "execution_count": 8,
   "metadata": {
    "colab": {},
    "colab_type": "code",
    "id": "uxZEeovBhMpG",
    "jupyter": {
     "outputs_hidden": true
    }
   },
   "outputs": [],
   "source": [
    "def extract_features_spectral_bandwidth(file_name):\n",
    "\n",
    "  try: \n",
    "      audio, sample_rate = librosa.load(file_name, res_type='kaiser_fast')\n",
    "      band_wd = librosa.feature.spectral_bandwidth(y=audio, sr=sample_rate)\n",
    "      band_wd = np.mean(band_wd)\n",
    "      pass\n",
    "\n",
    "  except Exception as e:\n",
    "      print(\"Spectral bandwith => Error encountered while parsing file: \", file_name)\n",
    "      return None \n",
    "     \n",
    "  return band_wd"
   ]
  },
  {
   "cell_type": "code",
   "execution_count": 9,
   "metadata": {
    "colab": {},
    "colab_type": "code",
    "id": "YQqhCVUOhNkt",
    "jupyter": {
     "outputs_hidden": true
    }
   },
   "outputs": [],
   "source": [
    "def extract_features_spectral_contrast(file_name):\n",
    "\n",
    "  try: \n",
    "      audio, sample_rate = librosa.load(file_name, res_type='kaiser_fast')\n",
    "      S = np.abs(librosa.stft(audio))\n",
    "      contrast = librosa.feature.spectral_contrast(S=S, sr= sample_rate)\n",
    "      contrast = np.mean(contrast, axis = 1)\n",
    "      pass\n",
    "\n",
    "  except Exception as e:\n",
    "      print(\"Spectral contrast => Error encountered while parsing file: \", file_name)\n",
    "      return None \n",
    "     \n",
    "  return contrast"
   ]
  },
  {
   "cell_type": "code",
   "execution_count": 10,
   "metadata": {
    "colab": {},
    "colab_type": "code",
    "id": "5k1IrGVrhUfi",
    "jupyter": {
     "outputs_hidden": true
    }
   },
   "outputs": [],
   "source": [
    "def extract_features_spectral_flatness(file_name):\n",
    "\n",
    "  try: \n",
    "      audio, sample_rate = librosa.load(file_name, res_type='kaiser_fast')\n",
    "      flat = librosa.feature.spectral_flatness(y=audio)\n",
    "      flat = np.mean(flat)\n",
    "      pass\n",
    "\n",
    "  except Exception as e:\n",
    "      print(\"Spectral flatness => Error encountered while parsing file: \", file_name)\n",
    "      return None \n",
    "     \n",
    "  return flat"
   ]
  },
  {
   "cell_type": "code",
   "execution_count": 11,
   "metadata": {
    "colab": {},
    "colab_type": "code",
    "id": "Oc23JR7FkERj",
    "jupyter": {
     "outputs_hidden": true
    }
   },
   "outputs": [],
   "source": [
    "def extract_features_spectral_rolloff(file_name):\n",
    "\n",
    "  try: \n",
    "      audio, sample_rate = librosa.load(file_name, res_type='kaiser_fast')\n",
    "      rolloff = librosa.feature.spectral_rolloff(y=audio, sr= sample_rate, roll_percent=0.85)\n",
    "      #roll_percent padrão = 0.85, pode ser alterado\n",
    "      rolloff = np.mean(rolloff)\n",
    "      pass\n",
    "\n",
    "  except Exception as e:\n",
    "      print(\"Spectral roloff => Error encountered while parsing file: \", file_name)\n",
    "      return None \n",
    "     \n",
    "  return rolloff"
   ]
  },
  {
   "cell_type": "code",
   "execution_count": 12,
   "metadata": {
    "colab": {},
    "colab_type": "code",
    "id": "onUXiCqXC1Ag",
    "jupyter": {
     "outputs_hidden": true
    }
   },
   "outputs": [],
   "source": [
    "def extract_features_poly_features(file_name):\n",
    "  \n",
    "  try: \n",
    "      audio, sample_rate = librosa.load(file_name, res_type='kaiser_fast')\n",
    "      S = np.abs(librosa.stft(audio))\n",
    "      p0 = librosa.feature.poly_features(S=S, order=0)\n",
    "      poly_f = np.mean(p0)\n",
    "      pass\n",
    "\n",
    "  except Exception as e:\n",
    "      print(\"Poly features => Error encountered while parsing file: \", file_name)\n",
    "      return None \n",
    "     \n",
    "  return poly_f"
   ]
  },
  {
   "cell_type": "code",
   "execution_count": 13,
   "metadata": {
    "colab": {},
    "colab_type": "code",
    "id": "mCpUi_IzC1Al",
    "jupyter": {
     "outputs_hidden": true
    }
   },
   "outputs": [],
   "source": [
    "def extract_features_tonnetz(file_name):\n",
    "  \n",
    "  try: \n",
    "      audio, sample_rate = librosa.load(file_name, res_type='kaiser_fast')\n",
    "      audio = librosa.effects.harmonic(audio)\n",
    "      tonnetz = librosa.feature.tonnetz(y=audio, sr=sample_rate)\n",
    "      tonnetz = np.mean(np.mean(tonnetz))\n",
    "      pass\n",
    "\n",
    "  except Exception as e:\n",
    "      print(\"Tonnetz => Error encountered while parsing file: \", file_name)\n",
    "      return None \n",
    "     \n",
    "  return tonnetz"
   ]
  },
  {
   "cell_type": "code",
   "execution_count": 14,
   "metadata": {
    "colab": {},
    "colab_type": "code",
    "id": "NRgjhdegC1Az",
    "jupyter": {
     "outputs_hidden": true
    }
   },
   "outputs": [],
   "source": [
    "def extract_features_tempogram(file_name):\n",
    "  \n",
    "    try: \n",
    "        audio, sample_rate = librosa.load(file_name, res_type='kaiser_fast')\n",
    "        hop_length = 385 #número de amostras de áudio entre medições sucessivas de início\n",
    "        oenv = librosa.onset.onset_strength(y=audio, sr=sample_rate, hop_length=hop_length)\n",
    "        tempogram = librosa.feature.tempogram(onset_envelope=oenv, sr=sample_rate, hop_length=hop_length)\n",
    "        tempogram = np.mean(tempogram)\n",
    "        pass\n",
    "\n",
    "    except Exception as e:\n",
    "        print(\"Tempogram => Error encountered while parsing file: \", file_name)\n",
    "        return None \n",
    "     \n",
    "    return tempogram"
   ]
  },
  {
   "cell_type": "code",
   "execution_count": 15,
   "metadata": {
    "colab": {},
    "colab_type": "code",
    "id": "rFouS6WmC1Bi",
    "jupyter": {
     "outputs_hidden": true
    }
   },
   "outputs": [],
   "source": [
    "features_function = []\n",
    "\n",
    "features_function.append(extract_features_mfcc)\n",
    "features_function.append(extract_features_zero)\n",
    "features_function.append(extract_features_chroma_stft)\n",
    "features_function.append(extract_features_chroma_cqt)\n",
    "features_function.append(extract_features_chroma_cens)\n",
    "features_function.append(extract_features_spectral_centroid)\n",
    "features_function.append(extract_features_spectral_bandwidth)\n",
    "features_function.append(extract_features_spectral_contrast)\n",
    "features_function.append(extract_features_spectral_flatness)\n",
    "features_function.append(extract_features_spectral_rolloff)\n",
    "features_function.append(extract_features_poly_features)\n",
    "features_function.append(extract_features_tonnetz)\n",
    "features_function.append(extract_features_tempogram)\n"
   ]
  },
  {
   "cell_type": "code",
   "execution_count": 16,
   "metadata": {
    "colab": {},
    "colab_type": "code",
    "id": "JQuDRM-rC1Bl",
    "jupyter": {
     "outputs_hidden": true
    }
   },
   "outputs": [],
   "source": [
    "def extract_features(file_name, features_function):\n",
    "    data = []\n",
    "   \n",
    "    for feature_function in features_function:\n",
    "        feature = feature_function(file_name)\n",
    "        if isinstance(feature, np.ndarray):\n",
    "            data.extend(list(feature))\n",
    "        else:\n",
    "            data.append(feature)\n",
    "    return data"
   ]
  },
  {
   "cell_type": "code",
   "execution_count": 17,
   "metadata": {
    "jupyter": {
     "outputs_hidden": true
    }
   },
   "outputs": [],
   "source": [
    "def get_audio_name_class(path):\n",
    "    audio_name_rec = path.split('/')[-1]\n",
    "#     print (audio_name)\n",
    "    audio_name = re.sub(r'\\.wav', \"\", audio_name_rec)\n",
    "#     print (audio_name_wo_ext)\n",
    "    label = path.split('/')[-2]\n",
    "#     print (label)\n",
    "    return audio_name, label"
   ]
  },
  {
   "cell_type": "code",
   "execution_count": 18,
   "metadata": {},
   "outputs": [],
   "source": [
    "  def run(dataset_path, pickle_name):\n",
    "    \n",
    "    #Captura os nomes das pastas\n",
    "    name_folders = glob.glob(dataset_path + '*')\n",
    "    labels = []\n",
    "    features = []\n",
    "    \n",
    "    for names_ in name_folders:\n",
    "\n",
    "        #Captura o caminho completo do audio\n",
    "        path_audios = glob.glob(names_ + '/*.wav')\n",
    "        \n",
    "        for path_ in tqdm(path_audios):\n",
    "            \n",
    "            audio_name, label = get_audio_name_class(path_)\n",
    "            labels.append(label)\n",
    "            features.append(extract_features(path_, features_function))\n",
    "            \n",
    "    \n",
    "    pickle.dump(features, open('handcrafted_features_385_' + str(pickle_name) +'.pickle', 'wb'))\n",
    "    pickle.dump(labels, open('handcrafted_labels_385_' + str(pickle_name) +'.pickle', 'wb'))\n",
    "    "
   ]
  },
  {
   "cell_type": "code",
   "execution_count": null,
   "metadata": {},
   "outputs": [
    {
     "name": "stderr",
     "output_type": "stream",
     "text": [
      "100%|██████████| 421/421 [20:34<00:00,  2.93s/it]\n",
      "100%|██████████| 53/53 [02:39<00:00,  3.01s/it]\n",
      "100%|██████████| 463/463 [22:55<00:00,  2.97s/it]\n",
      "100%|██████████| 429/429 [21:12<00:00,  2.97s/it]\n",
      "100%|██████████| 237/237 [11:39<00:00,  2.95s/it]\n",
      "100%|██████████| 18/18 [00:55<00:00,  3.10s/it]\n",
      "100%|██████████| 40/40 [01:57<00:00,  2.93s/it]\n",
      "100%|██████████| 473/473 [23:03<00:00,  2.92s/it]\n",
      "100%|██████████| 52/52 [02:32<00:00,  2.94s/it]\n",
      "100%|██████████| 504/504 [24:53<00:00,  2.96s/it]\n",
      "100%|██████████| 464/464 [22:40<00:00,  2.93s/it]\n",
      "100%|██████████| 418/418 [20:35<00:00,  2.95s/it]\n",
      " 33%|███▎      | 142/429 [07:07<14:13,  2.97s/it]"
     ]
    }
   ],
   "source": [
    "run('/home/arlaxad/Documentos/Sistemas de Informação/2020.3/base_de_dados/extendedballroom_v1 (cópia).1(.wav)/Teste/', 'teste')"
   ]
  },
  {
   "cell_type": "markdown",
   "metadata": {},
   "source": [
    "## The one who checks the pickles"
   ]
  },
  {
   "cell_type": "code",
   "execution_count": null,
   "metadata": {},
   "outputs": [],
   "source": [
    "def read_pickle(name):\n",
    "    with (open(name, 'rb')) as openfile:\n",
    "        while True:\n",
    "            try:\n",
    "                one_instance = pickle.load(openfile)\n",
    "            except EOFError:\n",
    "                break\n",
    "    one_instance = np.asanyarray(one_instance)\n",
    "    return one_instance"
   ]
  },
  {
   "cell_type": "code",
   "execution_count": null,
   "metadata": {},
   "outputs": [],
   "source": [
    "x_teste = read_pickle('handcrafted_features_teste.pickle')\n",
    "print(\"Dados do Teste\", x_teste.shape)\n",
    "y_teste = read_pickle('handcrafted_labels_teste.pickle')\n",
    "print(\"Label do Teste\", y_teste.shape)\n",
    "x_treino = read_pickle('handcrafted_features_treino.pickle')\n",
    "print(\"Dados do Treino\", x_treino.shape)\n",
    "y_treino = read_pickle('handcrafted_labels_treino.pickle')\n",
    "print(\"Label do Treino\", y_treino.shape)"
   ]
  },
  {
   "cell_type": "markdown",
   "metadata": {},
   "source": [
    "# Dados armazenados no Treino"
   ]
  },
  {
   "cell_type": "code",
   "execution_count": null,
   "metadata": {},
   "outputs": [],
   "source": [
    "for id_,i in enumerate(x_treino):\n",
    "    print(id_,i, \"\\n\")"
   ]
  },
  {
   "cell_type": "markdown",
   "metadata": {},
   "source": [
    "# Tempo para execulção do algoritmo"
   ]
  },
  {
   "cell_type": "markdown",
   "metadata": {},
   "source": [
    "| Tempo de treino: ≅ 12 Horas  |Tempo de teste: ≅ 3 horas\n",
    "|----------|----------|\n",
    "|![image1](treino.png)|![image2](teste.png)|"
   ]
  },
  {
   "cell_type": "markdown",
   "metadata": {},
   "source": [
    "### Itens a serem entregues\n",
    "\n",
    " - [x] Gerar os pickles de Label e dados do treino\n",
    " - [x] Gerar os pickles de Label e dados do teste\n",
    " - [x] Mostrar os dados dos pickles"
   ]
  },
  {
   "cell_type": "markdown",
   "metadata": {},
   "source": [
    "$Atividade (2.5 pt):$ apresentar um notebook gerando os pickles com os vetores de características e respectivas labels. Desse modo, teremos 4 pickle, features e labels de treino e features e labels de teste. "
   ]
  }
 ],
 "metadata": {
  "accelerator": "GPU",
  "colab": {
   "name": "Feature Extraction - MFCC.ipynb",
   "provenance": []
  },
  "kernelspec": {
   "display_name": "Python 3",
   "language": "python",
   "name": "python3"
  },
  "language_info": {
   "codemirror_mode": {
    "name": "ipython",
    "version": 3
   },
   "file_extension": ".py",
   "mimetype": "text/x-python",
   "name": "python",
   "nbconvert_exporter": "python",
   "pygments_lexer": "ipython3",
   "version": "3.6.9"
  }
 },
 "nbformat": 4,
 "nbformat_minor": 4
}
