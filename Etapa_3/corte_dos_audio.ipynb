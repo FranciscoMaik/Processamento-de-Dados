{
 "cells": [
  {
   "cell_type": "code",
   "execution_count": 1,
   "metadata": {},
   "outputs": [],
   "source": [
    "from pydub import AudioSegment\n",
    "from pydub.utils import make_chunks\n",
    "import re\n",
    "import os\n",
    "import glob\n",
    "from tqdm import tqdm"
   ]
  },
  {
   "cell_type": "code",
   "execution_count": 2,
   "metadata": {},
   "outputs": [],
   "source": [
    "def get_audio_name_class(path):\n",
    "    audio_name = path.split('/')[-1]\n",
    "    audio_name_wo_ext = re.sub(r'\\.wav', \"\", audio_name)\n",
    "    return audio_name_wo_ext"
   ]
  },
  {
   "cell_type": "code",
   "execution_count": 3,
   "metadata": {},
   "outputs": [],
   "source": [
    "def cut_audio(path,size_in_ms = 5000): \n",
    "    path_folders = glob.glob(path + '/' + '*')\n",
    "    \n",
    "    for specif in path_folders:\n",
    "        type_folder = glob.glob(specif + '/' + '*')\n",
    "        \n",
    "        for folder in type_folder:\n",
    "            path_audio = glob.glob(folder + '/' + '*')\n",
    "        \n",
    "            for audio in path_audio:\n",
    "\n",
    "                length_cut = [] \n",
    "                name = get_audio_name_class(audio)\n",
    "                myaudio = AudioSegment.from_file(audio,\"wav\")\n",
    "                chunk_length_ms = size_in_ms\n",
    "                chunks = make_chunks(myaudio,chunk_length_ms )\n",
    "\n",
    "                for i, chunk in enumerate(chunks):\n",
    "                    length_cut.append(i)\n",
    "\n",
    "                for i, chunk in tqdm(enumerate(chunks)):\n",
    "                    chunk_name = name+\"_000{0}.wav\".format(i)\n",
    "                    if(i == 0 or i == len(length_cut)-1):\n",
    "                        print(\"\")\n",
    "                    else:\n",
    "                        chunk.export(folder+\"/\"+chunk_name, format=\"wav\")\n",
    "                os.remove(audio)\n",
    "   "
   ]
  },
  {
   "cell_type": "code",
   "execution_count": 4,
   "metadata": {},
   "outputs": [
    {
     "name": "stderr",
     "output_type": "stream",
     "text": [
      "25it [00:00, 372.76it/s]"
     ]
    },
    {
     "name": "stdout",
     "output_type": "stream",
     "text": [
      "\n",
      "\n"
     ]
    },
    {
     "name": "stderr",
     "output_type": "stream",
     "text": [
      "\n"
     ]
    }
   ],
   "source": [
    "cut_audio(\"/home/arlaxad/Documentos/Sistemas de Informação/2020.3/Semana_3/base\")"
   ]
  },
  {
   "cell_type": "code",
   "execution_count": null,
   "metadata": {},
   "outputs": [],
   "source": []
  },
  {
   "cell_type": "code",
   "execution_count": null,
   "metadata": {},
   "outputs": [],
   "source": []
  }
 ],
 "metadata": {
  "kernelspec": {
   "display_name": "Python 3",
   "language": "python",
   "name": "python3"
  },
  "language_info": {
   "codemirror_mode": {
    "name": "ipython",
    "version": 3
   },
   "file_extension": ".py",
   "mimetype": "text/x-python",
   "name": "python",
   "nbconvert_exporter": "python",
   "pygments_lexer": "ipython3",
   "version": "3.6.9"
  }
 },
 "nbformat": 4,
 "nbformat_minor": 4
}
