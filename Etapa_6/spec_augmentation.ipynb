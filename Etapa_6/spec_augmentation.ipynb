{
 "cells": [
  {
   "cell_type": "markdown",
   "metadata": {},
   "source": [
    "# S02T04: Geração dos pickles com os dados aumentados "
   ]
  },
  {
   "cell_type": "markdown",
   "metadata": {},
   "source": [
    "## The one with the libs"
   ]
  },
  {
   "cell_type": "code",
   "execution_count": 1,
   "metadata": {},
   "outputs": [],
   "source": [
    "import librosa\n",
    "import tensorflow_io as tfio\n",
    "import glob\n",
    "import re #regex\n",
    "import numpy as np\n",
    "from IPython.display import Image\n",
    "import pickle\n",
    "from scipy import signal\n",
    "from tqdm import tqdm"
   ]
  },
  {
   "cell_type": "markdown",
   "metadata": {},
   "source": [
    "## The one with mel-spectrogram 201 x 201"
   ]
  },
  {
   "cell_type": "code",
   "execution_count": 2,
   "metadata": {},
   "outputs": [],
   "source": [
    "stft_datas = []"
   ]
  },
  {
   "cell_type": "code",
   "execution_count": null,
   "metadata": {},
   "outputs": [],
   "source": [
    "def compute_mel(audioname):\n",
    "    wav = librosa.load(audioname, sr=22050, duration=3.5)[0]\n",
    "    melspec = librosa.feature.melspectrogram(wav,sr=22050,n_fft=1024,hop_length=385,n_mels=201)\n",
    "    logmel = librosa.core.power_to_db(melspec)\n",
    "            \n",
    "         # Créditos: Jederson\n",
    "    max_pad_len = 201\n",
    "    pad_width = max_pad_len - logmel.shape[1]\n",
    "    logmel = np.pad(logmel, pad_width=((0, 0), (0, pad_width)), mode='constant')\n",
    "\n",
    "    return logmel"
   ]
  },
  {
   "cell_type": "code",
   "execution_count": 3,
   "metadata": {},
   "outputs": [],
   "source": [
    "def compute_stft(audioname):\n",
    "         \n",
    "        wav = librosa.load(audioname, sr=22050, duration=3.5)[0]\n",
    "        stftspec = np.abs(librosa.stft(wav, n_fft=400,  hop_length=385, window=signal.blackmanharris(400)))\n",
    "         \n",
    "        logstft = librosa.core.power_to_db(stftspec**2)\n",
    "        \n",
    "        stft_datas.append(stftspec)\n",
    "        \n",
    "        \n",
    "        return logstft"
   ]
  },
  {
   "cell_type": "code",
   "execution_count": 4,
   "metadata": {},
   "outputs": [],
   "source": [
    "def compute_harmonic(id_):\n",
    "    kernel_size=31\n",
    "    power=2.0\n",
    "    mask=False\n",
    "    margin=1.0\n",
    "\n",
    "    harmspec, P = librosa.decompose.hpss(stft_datas[id_], kernel_size=kernel_size, power=power, mask=mask, margin=margin)\n",
    "\n",
    "    logharm = librosa.core.power_to_db(harmspec)\n",
    "   \n",
    "\n",
    "    return logharm"
   ]
  },
  {
   "cell_type": "markdown",
   "metadata": {},
   "source": [
    "## The one with time and frequency transforms"
   ]
  },
  {
   "cell_type": "code",
   "execution_count": 5,
   "metadata": {},
   "outputs": [],
   "source": [
    "def compute_transforms(spec, vet):\n",
    "        params = vet\n",
    "        freq_transforms = []\n",
    "        time_transforms = []\n",
    "        for i in params:\n",
    "            freq_mask = tfio.experimental.audio.freq_mask(spec, param=i).numpy().astype('float32')\n",
    "            time_mask = tfio.experimental.audio.time_mask(spec, param=i).numpy().astype('float32')\n",
    "            freq_transforms.append(freq_mask)\n",
    "            time_transforms.append(time_mask)\n",
    "        return freq_transforms, time_transforms"
   ]
  },
  {
   "cell_type": "markdown",
   "metadata": {},
   "source": [
    "## The one with the audio name and class "
   ]
  },
  {
   "cell_type": "code",
   "execution_count": 6,
   "metadata": {},
   "outputs": [],
   "source": [
    "def get_audio_name_class(path):\n",
    "    audio_name = path.split('/')[-1]\n",
    "#     print (audio_name)\n",
    "    audio_name_wo_ext = re.sub(r'\\.wav', \"\", audio_name)\n",
    "#     print (audio_name_wo_ext)\n",
    "    label = path.split('/')[-2]\n",
    "#     print (label)\n",
    "    return audio_name_wo_ext, label"
   ]
  },
  {
   "cell_type": "markdown",
   "metadata": {},
   "source": [
    "## The one who saves the specs"
   ]
  },
  {
   "cell_type": "code",
   "execution_count": 7,
   "metadata": {},
   "outputs": [],
   "source": [
    "x_harm = []\n",
    "y_harm = []\n",
    "    \n",
    "def run(dataset_path, pickle_name):\n",
    "    \n",
    "    #Captura os nomes das pastas\n",
    "    name_folders = glob.glob(dataset_path + '*')\n",
    "#     x_mel = []\n",
    "#     y_mel = []\n",
    "    \n",
    "    \n",
    "    for names_ in name_folders:\n",
    "        \n",
    "        print(names_)\n",
    "\n",
    "        #Captura o caminho completo do audio\n",
    "        path_audios = glob.glob(names_ + '/*.wav')\n",
    "        \n",
    "        for i,path_ in enumerate(tqdm(path_audios)):\n",
    "            \n",
    "            audio_name, label = get_audio_name_class(path_)\n",
    "#             logmel = compute_mel(path_)\n",
    "            logstft = compute_stft(path_)\n",
    "            logharm = compute_harmonic(i)\n",
    "            \n",
    "            \n",
    "#             x_mel.append(logmel)\n",
    "#             y_mel.append(label)\n",
    "            \n",
    "            x_harm.append(logharm)\n",
    "            y_harm.append(label)\n",
    "            \n",
    "            #Estas são as classes que necessitaram fazer um aumento de dados, dependendo da quantidade\n",
    "            # necessaria maior o parametro de aumento\n",
    "            \n",
    "            if label == 'Pasodoble' or label == 'Slowwaltz':\n",
    "                label_seq = [label]*8\n",
    "#                 freq,time = compute_transforms(logmel,[15,20,25,30])\n",
    "#                 x_mel.extend(freq)\n",
    "#                 x_mel.extend(time)                  \n",
    "#                 y_mel.extend(label_seq)\n",
    "                \n",
    "                freq_harm,time_harm = compute_transforms(logharm,[15,20,25,30])\n",
    "                x_harm.extend(freq_harm)\n",
    "                x_harm.extend(time_harm)                  \n",
    "                y_harm.extend(label_seq)\n",
    "                \n",
    "            elif label == 'Viennesewaltz':\n",
    "                label_seq = [label]\n",
    "#                 freq,time = compute_transforms(logmel,[15])\n",
    "#                 x_mel.extend(freq)\n",
    "# #                 x_mel.extend(time)                  \n",
    "#                 y_mel.extend(label_seq)\n",
    "                \n",
    "                freq_harm,time_harm = compute_transforms(logharm,[15])\n",
    "                x_harm.extend(freq_harm)\n",
    "#                 x_harm.extend(time_harm)                  \n",
    "                y_harm.extend(label_seq)\n",
    "    \n",
    "            elif label == 'Salsa':\n",
    "                label_seq = [label]*10\n",
    "#                 freq,time = compute_transforms(logmel,[15,20,25,30,35])\n",
    "#                 x_mel.extend(freq)\n",
    "#                 x_mel.extend(time)                  \n",
    "#                 y_mel.extend(label_seq)\n",
    "                \n",
    "                freq_harm,time_harm = compute_transforms(logharm,[15,20,25,30,35])\n",
    "                x_harm.extend(freq_harm)\n",
    "                x_harm.extend(time_harm)                  \n",
    "                y_harm.extend(label_seq)\n",
    "                \n",
    "            elif label == 'Wcswing':\n",
    "                label_seq = [label]*22\n",
    "#                 freq,time = compute_transforms(logmel,[15,20,25,30,35,40,45,50,55,60,65])\n",
    "#                 x_mel.extend(freq)\n",
    "#                 x_mel.extend(time)                  \n",
    "#                 y_mel.extend(label_seq)\n",
    "                \n",
    "                freq_harm,time_harm = compute_transforms(logharm,[15,20,25,30,35,40,45,50,55,60,65])\n",
    "                x_harm.extend(freq_harm)\n",
    "                x_harm.extend(time_harm)                  \n",
    "                y_harm.extend(label_seq)\n",
    "    \n",
    "    \n",
    "                \n",
    "#     pickle.dump(x_mel, open('x_' + str(pickle_name) +'_aug_logmelspec.pickle', 'wb'))\n",
    "#     pickle.dump(y_mel, open('y_' + str(pickle_name) +'_aug_logmelspec.pickle', 'wb'))\n",
    "    "
   ]
  },
  {
   "cell_type": "code",
   "execution_count": 9,
   "metadata": {},
   "outputs": [],
   "source": [
    "stft_datas=[]"
   ]
  },
  {
   "cell_type": "code",
   "execution_count": 10,
   "metadata": {},
   "outputs": [],
   "source": [
    "pickle.dump(x_harm, open('x_' +'treino_aug_logharmspec2.pickle', 'wb'))\n",
    "pickle.dump(y_harm, open('y_' + 'treino_aug_logharmspec2.pickle', 'wb'))"
   ]
  },
  {
   "cell_type": "markdown",
   "metadata": {},
   "source": [
    "## The one who runs the script"
   ]
  },
  {
   "cell_type": "code",
   "execution_count": 8,
   "metadata": {},
   "outputs": [
    {
     "name": "stderr",
     "output_type": "stream",
     "text": [
      "\r",
      "  0%|          | 0/1716 [00:00<?, ?it/s]"
     ]
    },
    {
     "name": "stdout",
     "output_type": "stream",
     "text": [
      "/home/arlaxad/Documentos/Sistemas de Informação/2020.3/base_de_dados/extendedballroom_v1 (cópia).1(.wav)/Treino/Samba\n"
     ]
    },
    {
     "name": "stderr",
     "output_type": "stream",
     "text": [
      "100%|██████████| 1716/1716 [08:25<00:00,  3.40it/s]\n",
      "  0%|          | 0/950 [00:00<?, ?it/s]"
     ]
    },
    {
     "name": "stdout",
     "output_type": "stream",
     "text": [
      "/home/arlaxad/Documentos/Sistemas de Informação/2020.3/base_de_dados/extendedballroom_v1 (cópia).1(.wav)/Treino/Viennesewaltz\n"
     ]
    },
    {
     "name": "stderr",
     "output_type": "stream",
     "text": [
      "100%|██████████| 950/950 [04:32<00:00,  3.48it/s]\n",
      "  0%|          | 0/74 [00:00<?, ?it/s]"
     ]
    },
    {
     "name": "stdout",
     "output_type": "stream",
     "text": [
      "/home/arlaxad/Documentos/Sistemas de Informação/2020.3/base_de_dados/extendedballroom_v1 (cópia).1(.wav)/Treino/Wcswing\n"
     ]
    },
    {
     "name": "stderr",
     "output_type": "stream",
     "text": [
      "100%|██████████| 74/74 [00:22<00:00,  3.23it/s]\n",
      "  0%|          | 0/208 [00:00<?, ?it/s]"
     ]
    },
    {
     "name": "stdout",
     "output_type": "stream",
     "text": [
      "/home/arlaxad/Documentos/Sistemas de Informação/2020.3/base_de_dados/extendedballroom_v1 (cópia).1(.wav)/Treino/Slowwaltz\n"
     ]
    },
    {
     "name": "stderr",
     "output_type": "stream",
     "text": [
      "100%|██████████| 208/208 [01:01<00:00,  3.39it/s]\n",
      "  0%|          | 0/1717 [00:00<?, ?it/s]"
     ]
    },
    {
     "name": "stdout",
     "output_type": "stream",
     "text": [
      "/home/arlaxad/Documentos/Sistemas de Informação/2020.3/base_de_dados/extendedballroom_v1 (cópia).1(.wav)/Treino/Waltz\n"
     ]
    },
    {
     "name": "stderr",
     "output_type": "stream",
     "text": [
      "100%|██████████| 1717/1717 [08:18<00:00,  3.45it/s]\n",
      "  0%|          | 0/1674 [00:00<?, ?it/s]"
     ]
    },
    {
     "name": "stdout",
     "output_type": "stream",
     "text": [
      "/home/arlaxad/Documentos/Sistemas de Informação/2020.3/base_de_dados/extendedballroom_v1 (cópia).1(.wav)/Treino/Tango\n"
     ]
    },
    {
     "name": "stderr",
     "output_type": "stream",
     "text": [
      "100%|██████████| 1674/1674 [08:09<00:00,  3.42it/s]\n"
     ]
    }
   ],
   "source": [
    "run('/home/arlaxad/Documentos/Sistemas de Informação/2020.3/base_de_dados/extendedballroom_v1 (cópia).1(.wav)/Treino/', 'treino') "
   ]
  },
  {
   "cell_type": "markdown",
   "metadata": {},
   "source": [
    "## The one who checks the pickles"
   ]
  },
  {
   "cell_type": "code",
   "execution_count": null,
   "metadata": {},
   "outputs": [],
   "source": [
    "def read_pickle(name):\n",
    "    with (open(name, 'rb')) as openfile:\n",
    "        while True:\n",
    "            try:\n",
    "                one_instance = pickle.load(openfile)\n",
    "            except EOFError:\n",
    "                break\n",
    "    one_instance = np.asanyarray(one_instance)\n",
    "    return one_instance"
   ]
  },
  {
   "cell_type": "code",
   "execution_count": null,
   "metadata": {},
   "outputs": [],
   "source": [
    "# Dimensões sem augmentation - x:(6971, 173, 173) e y:(6971,)\n",
    "x_train_mel = read_pickle('x_train_aug_logmelspec.pickle')\n",
    "print (x_train.shape)\n",
    "y_train_mel = read_pickle('y_train_aug_logmelspec.pickle')\n",
    "print (y_train.shape)\n",
    "x_train_harm = read_pickle('x_train_aug_logmelspec.pickle')\n",
    "print (x_train.shape)\n",
    "y_train_harm = read_pickle('y_train_aug_logmelspec.pickle')\n",
    "print (y_train.shape)"
   ]
  },
  {
   "cell_type": "markdown",
   "metadata": {},
   "source": [
    "# Como ficou as amostras por classes com o Aumentation"
   ]
  },
  {
   "cell_type": "code",
   "execution_count": null,
   "metadata": {},
   "outputs": [],
   "source": [
    "y_train_mel.count(\"classes\")\n",
    "y_train_harm.count(\"classes\")"
   ]
  }
 ],
 "metadata": {
  "kernelspec": {
   "display_name": "Python 3",
   "language": "python",
   "name": "python3"
  },
  "language_info": {
   "codemirror_mode": {
    "name": "ipython",
    "version": 3
   },
   "file_extension": ".py",
   "mimetype": "text/x-python",
   "name": "python",
   "nbconvert_exporter": "python",
   "pygments_lexer": "ipython3",
   "version": "3.6.9"
  }
 },
 "nbformat": 4,
 "nbformat_minor": 4
}
