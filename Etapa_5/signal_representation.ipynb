{
 "cells": [
  {
   "cell_type": "markdown",
   "metadata": {},
   "source": [
    "# S02T02: Geração dos espectrogramas para todo o dataset "
   ]
  },
  {
   "cell_type": "markdown",
   "metadata": {},
   "source": [
    "## The one with the libs"
   ]
  },
  {
   "cell_type": "code",
   "execution_count": 6,
   "metadata": {},
   "outputs": [
    {
     "name": "stdout",
     "output_type": "stream",
     "text": [
      "/home/arlaxad/Documentos/Sistemas de Informação/2020.3/base_de_dados/extendedballroom_v1 (cópia).1(.wav)/Treino/\n"
     ]
    }
   ],
   "source": [
    "import numpy as np\n",
    "import librosa\n",
    "from scipy import signal \n",
    "import glob\n",
    "import re \n",
    "import pickle\n",
    "from tqdm import tqdm\n",
    "import os\n",
    "path = \"/home/arlaxad/Documentos/Sistemas de Informação/2020.3/base_de_dados/extendedballroom_v1 (cópia).1(.wav)/Treino/\"\n",
    "print(path) "
   ]
  },
  {
   "cell_type": "markdown",
   "metadata": {},
   "source": [
    "## The one with mel-spectrogram 201 x 201"
   ]
  },
  {
   "cell_type": "code",
   "execution_count": 2,
   "metadata": {},
   "outputs": [],
   "source": [
    "def compute_mel(audioname):\n",
    "    wav = librosa.load(audioname, sr=22050, duration=3.5)[0]\n",
    "    melspec = librosa.feature.melspectrogram(wav,sr=22050,n_fft=1024,hop_length=385,n_mels=201)\n",
    "    logmel = librosa.core.power_to_db(melspec)\n",
    "    \n",
    "    # Créditos: Jederson\n",
    "    max_pad_len = 201\n",
    "    pad_width = max_pad_len - logmel.shape[1]\n",
    "    logmel = np.pad(logmel, pad_width=((0, 0), (0, pad_width)), mode='constant')\n",
    "        \n",
    "    return logmel"
   ]
  },
  {
   "cell_type": "code",
   "execution_count": null,
   "metadata": {},
   "outputs": [],
   "source": [
    "stft_datas = []"
   ]
  },
  {
   "cell_type": "code",
   "execution_count": null,
   "metadata": {},
   "outputs": [],
   "source": [
    "def compute_stft(audioname):\n",
    "         \n",
    "        wav = librosa.load(audioname, sr=22050, duration=5.0)[0]\n",
    "        stftspec = np.abs(librosa.stft(wav, n_fft=500,  hop_length=440, window=signal.blackmanharris(500)))\n",
    "         \n",
    "        logstft = librosa.core.power_to_db(stftspec**2)\n",
    "        \n",
    "        stft_datas.append(stftspec)\n",
    "        \n",
    "        return logstft"
   ]
  },
  {
   "cell_type": "code",
   "execution_count": null,
   "metadata": {},
   "outputs": [],
   "source": [
    "def compute_harmonic(id_):\n",
    "    kernel_size=31\n",
    "    power=2.0\n",
    "    mask=False\n",
    "    margin=1.0\n",
    "    \n",
    "    harmspec, P = librosa.decompose.hpss(stft_datas[id_], kernel_size=kernel_size, power=power, mask=mask, margin=margin)\n",
    "\n",
    "    logharm = librosa.core.power_to_db(harmspec)\n",
    "\n",
    "    return logharm"
   ]
  },
  {
   "cell_type": "markdown",
   "metadata": {},
   "source": [
    "## The one with the audio name and class "
   ]
  },
  {
   "cell_type": "code",
   "execution_count": 3,
   "metadata": {},
   "outputs": [],
   "source": [
    "def get_audio_name_class(path):\n",
    "    audio_name = path.split('/')[-1]\n",
    "#     print (audio_name)\n",
    "    audio_name_wo_ext = re.sub(r'\\.wav', \"\", audio_name)\n",
    "#     print (audio_name_wo_ext)\n",
    "    label = path.split('/')[-2]\n",
    "#     print (label)\n",
    "    return audio_name_wo_ext, label"
   ]
  },
  {
   "cell_type": "markdown",
   "metadata": {},
   "source": [
    "## The one who saves the specs"
   ]
  },
  {
   "cell_type": "code",
   "execution_count": 7,
   "metadata": {},
   "outputs": [],
   "source": [
    "def run(dataset_path, pickle_name):\n",
    "    \n",
    "    #Captura os nomes das pastas\n",
    "    name_folders = glob.glob(dataset_path + '*')\n",
    "    \n",
    "    mel_x = []\n",
    "    mel_y = []\n",
    "#     stft_x = []\n",
    "#     stft_y = []\n",
    "#     harm_x = []\n",
    "#     harm_y = []\n",
    "    \n",
    "    for names_ in name_folders:\n",
    "        #Captura o caminho completo do audio\n",
    "        path_audios = glob.glob(names_ + '/*.wav')\n",
    "        \n",
    "        for id_,path_ in enumerate(tqdm(path_audios)):\n",
    "            audio_name, label = get_audio_name_class(path_)\n",
    "            logmel = compute_mel(path_)\n",
    "#             logstft = compute_stft(path_)\n",
    "#             logharm = compute_harmonic(id_)\n",
    "            \n",
    "            mel_x.append(logmel)\n",
    "            mel_y.append(label)\n",
    "            \n",
    "#             stft_x.append(logstft)\n",
    "#             stft_y.append(label)\n",
    "            \n",
    "#             harm_x.append(logharm)\n",
    "#             harm_y.append(label)\n",
    "                \n",
    "    pickle.dump(mel_x, open(dataset_path + \"/\"+pickle_name+'_x_' + str(pickle_name) +'_mel.pickle', 'wb'))\n",
    "    pickle.dump(mel_y, open(dataset_path +\"/\"+pickle_name+'_y_' + str(pickle_name) +'_mel.pickle', 'wb'))\n",
    "    \n",
    "#     pickle.dump(stft_x, open(dataset_path + \"/\"+pickle_name+'_x_' + str(pickle_name) +'_stft.pickle', 'wb'))\n",
    "#     pickle.dump(stft_y, open(dataset_path +\"/\"+pickle_name+'_y_' + str(pickle_name) +'_stft.pickle', 'wb'))\n",
    "    \n",
    "#     pickle.dump(harm_x, open(dataset_path + \"/\"+pickle_name+'_x_' + str(pickle_name) +'_harm.pickle', 'wb'))\n",
    "#     pickle.dump(harm_y, open(dataset_path +\"/\"+pickle_name+'_y_' + str(pickle_name) +'_harm.pickle', 'wb'))"
   ]
  },
  {
   "cell_type": "code",
   "execution_count": 8,
   "metadata": {},
   "outputs": [
    {
     "name": "stderr",
     "output_type": "stream",
     "text": [
      "100%|██████████| 1684/1684 [09:21<00:00,  3.00it/s]\n",
      "100%|██████████| 210/210 [01:06<00:00,  3.18it/s]\n",
      "100%|██████████| 1852/1852 [09:59<00:00,  3.09it/s]\n",
      "100%|██████████| 1716/1716 [08:58<00:00,  3.19it/s]\n",
      "100%|██████████| 950/950 [04:56<00:00,  3.20it/s]\n",
      "100%|██████████| 74/74 [00:23<00:00,  3.20it/s]\n",
      "100%|██████████| 158/158 [00:49<00:00,  3.22it/s]\n",
      "100%|██████████| 1894/1894 [09:52<00:00,  3.20it/s]\n",
      "100%|██████████| 208/208 [01:05<00:00,  3.20it/s]\n",
      "100%|██████████| 1717/1717 [08:59<00:00,  3.18it/s]\n",
      "100%|██████████| 1857/1857 [09:44<00:00,  3.18it/s]\n",
      "100%|██████████| 1674/1674 [08:52<00:00,  3.14it/s]\n",
      "100%|██████████| 1715/1715 [08:53<00:00,  3.21it/s]\n"
     ]
    }
   ],
   "source": [
    "run(path, 'Treino') "
   ]
  },
  {
   "cell_type": "markdown",
   "metadata": {},
   "source": [
    "## The one who checks the pickles "
   ]
  },
  {
   "cell_type": "code",
   "execution_count": null,
   "metadata": {},
   "outputs": [],
   "source": [
    "def read_pickle(name):\n",
    "    with (open(name, 'rb')) as openfile:\n",
    "        while True:\n",
    "            try:\n",
    "                one_instance = pickle.load(openfile)\n",
    "            except EOFError:\n",
    "                break\n",
    "    one_instance = np.asanyarray(one_instance)\n",
    "    return one_instance"
   ]
  },
  {
   "cell_type": "code",
   "execution_count": null,
   "metadata": {},
   "outputs": [],
   "source": [
    "x_test_harm = read_pickle(path+'/Treino_x_Treino_harm.pickle')\n",
    "y_test_harm = read_pickle(path+'/Treino_y_Treino_harm.pickle')\n",
    "# x_test_stft = read_pickle(path+'/Treino_x_Treino_stft.pickle')\n",
    "# y_test_stft = read_pickle(path+'/Treino_y_Treino_stft.pickle')\n",
    "# x_test_mel = read_pickle(path+'/Treino_x_Treino_mel.pickle')\n",
    "# y_test_mel = read_pickle(path+'/Treino_y_Treino_mel.pickle')\n"
   ]
  },
  {
   "cell_type": "code",
   "execution_count": null,
   "metadata": {},
   "outputs": [],
   "source": [
    "print(x_test_stft.shape)\n",
    "# print(x_test_harm.shape)\n",
    "# print(x_test_mel.shape)"
   ]
  }
 ],
 "metadata": {
  "kernelspec": {
   "display_name": "Python 3",
   "language": "python",
   "name": "python3"
  },
  "language_info": {
   "codemirror_mode": {
    "name": "ipython",
    "version": 3
   },
   "file_extension": ".py",
   "mimetype": "text/x-python",
   "name": "python",
   "nbconvert_exporter": "python",
   "pygments_lexer": "ipython3",
   "version": "3.6.9"
  }
 },
 "nbformat": 4,
 "nbformat_minor": 2
}
